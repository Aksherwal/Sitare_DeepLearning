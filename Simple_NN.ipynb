{
 "cells": [
  {
   "cell_type": "markdown",
   "id": "69421e76",
   "metadata": {},
   "source": [
    "# Neural Network Assignment - 3 Layer NN\n",
    "\n",
    "**Objective:** Implement a 3-layer Neural Network (1 neuron per layer) to approximate the function:\n",
    "\n",
    "**f(x) = exp(-sin(x²)/2) + x**\n",
    "\n",
    "- Input: x (scalar)\n",
    "- Output: y = f(x)\n",
    "- 3 layers with 1 neuron each\n",
    "- Activation: ReLU (chosen for simplicity)\n",
    "- Loss: Mean Squared Error (MSE)\n",
    "- Optimizer: Gradient Descent"
   ]
  },
  {
   "cell_type": "markdown",
   "id": "f1cef24c",
   "metadata": {},
   "source": [
    "## 1. Import Required Libraries"
   ]
  },
  {
   "cell_type": "code",
   "execution_count": 1,
   "id": "4a463540",
   "metadata": {},
   "outputs": [
    {
     "name": "stdout",
     "output_type": "stream",
     "text": [
      "Libraries imported successfully!\n"
     ]
    }
   ],
   "source": [
    "import numpy as np\n",
    "import matplotlib.pyplot as plt\n",
    "\n",
    "print(\"Libraries imported successfully!\")\n"
   ]
  },
  {
   "cell_type": "markdown",
   "id": "860aa4ad",
   "metadata": {},
   "source": [
    "## 2. Load and Prepare Dataset"
   ]
  },
  {
   "cell_type": "code",
   "execution_count": 2,
   "id": "ae0e2649",
   "metadata": {},
   "outputs": [
    {
     "name": "stdout",
     "output_type": "stream",
     "text": [
      "Data generated:\n"
     ]
    }
   ],
   "source": [
    "# 25 samples uniformly spaced between [-10, 10]\n",
    "x_data = np.linspace(-10, 10, 25)\n",
    "\n",
    "# f(x) = exp(-sin(x²)/2) + x\n",
    "def target_function(x):\n",
    "    return np.exp(-np.sin(x**2)/2) + x\n",
    "\n",
    "y_data = target_function(x_data)\n",
    "\n",
    "# Randomly split into training (20 samples) and test (5 samples)\n",
    "np.random.seed(42)  # For reproducible results\n",
    "indices = np.random.permutation(25)  # Shuffle indices\n",
    "train_indices = indices[:20]\n",
    "test_indices = indices[20:]\n",
    "\n",
    "x_train = x_data[train_indices]\n",
    "y_train = y_data[train_indices]\n",
    "x_test = x_data[test_indices]\n",
    "y_test = y_data[test_indices]\n",
    "\n",
    "print(\"Data generated:\")\n"
   ]
  },
  {
   "cell_type": "markdown",
   "id": "b62efff2",
   "metadata": {},
   "source": [
    "## 3. Define Activation Functions"
   ]
  },
  {
   "cell_type": "code",
   "execution_count": 3,
   "id": "dee3138b",
   "metadata": {},
   "outputs": [],
   "source": [
    "# activation functions\n",
    "\n",
    "def activation_fn(x):\n",
    "    # Tanh activation function\n",
    "    return np.tanh(x)\n",
    "\n",
    "    # ReLU activation function\n",
    "    # return max(0, x)\n",
    "\n",
    "def activation_fn_derivative(x):\n",
    "    # Derivative of tanh\n",
    "    return 1.0 - np.tanh(x)**2\n",
    "\n",
    "    # Derivative of ReLU\n",
    "    # return 1.0 if x > 0 else 0.0\n"
   ]
  },
  {
   "cell_type": "markdown",
   "id": "ceb0333e",
   "metadata": {},
   "source": [
    "## 4. Initialize Neural Network Parameters"
   ]
  },
  {
   "cell_type": "code",
   "execution_count": 4,
   "id": "2456ce7d",
   "metadata": {},
   "outputs": [],
   "source": [
    "# Initialize parameters for 3-layer NN (1 neuron per layer)\n",
    "# Layer 1: w1, b1\n",
    "# Layer 2: w2, b2  \n",
    "# Layer 3: w3, b3\n",
    "\n",
    "#(multiplied by 0.5 to keep initial weights small)\n",
    "np.random.seed(42)\n",
    "w1 = np.random.randn() * 0.5 \n",
    "b1 = np.random.randn() * 0.5\n",
    "w2 = np.random.randn() * 0.5\n",
    "b2 = np.random.randn() * 0.5\n",
    "w3 = np.random.randn() * 0.5\n",
    "b3 = np.random.randn() * 0.5\n"
   ]
  },
  {
   "cell_type": "markdown",
   "id": "0ea0a3fd",
   "metadata": {},
   "source": [
    "## 5. Forward Propagation"
   ]
  },
  {
   "cell_type": "code",
   "execution_count": 5,
   "id": "8a65acf6",
   "metadata": {},
   "outputs": [],
   "source": [
    "def forward_propagation(x, w1, b1, w2, b2, w3, b3):\n",
    "    \"\"\"\n",
    "    Forward propagation through 3-layer NN\n",
    "    a[1] = g(w1*x + b1)\n",
    "    a[2] = g(w2*a[1] + b2)  \n",
    "    y_hat = g(w3*a[2] + b3)\n",
    "    \"\"\"\n",
    "    # Layer 1\n",
    "    z1 = w1 * x + b1\n",
    "    a1 = activation_fn(z1)\n",
    "    \n",
    "    # Layer 2\n",
    "    z2 = w2 * a1 + b2\n",
    "    a2 = activation_fn(z2)\n",
    "    \n",
    "    # Layer 3 (output)\n",
    "    z3 = w3 * a2 + b3\n",
    "    y_hat = activation_fn(z3) \n",
    "    \n",
    "    # Store intermediate values for backpropagation\n",
    "    cache = {\n",
    "        'z1': z1, 'a1': a1,\n",
    "        'z2': z2, 'a2': a2,\n",
    "        'z3': z3, 'y_hat': y_hat\n",
    "    }\n",
    "    \n",
    "    return y_hat, cache\n"
   ]
  },
  {
   "cell_type": "markdown",
   "id": "65ccdf4b",
   "metadata": {},
   "source": [
    "## 6. Backward Propagation"
   ]
  },
  {
   "cell_type": "code",
   "execution_count": 6,
   "id": "3d82eb1c",
   "metadata": {},
   "outputs": [
    {
     "name": "stdout",
     "output_type": "stream",
     "text": [
      "Loss and backpropagation functions defined\n"
     ]
    }
   ],
   "source": [
    "def compute_loss(y_hat, y_true):\n",
    "    \"\"\"Mean Squared Error: J = (1/m) * Σ(y_hat - y_true)²\"\"\"\n",
    "    m = len(y_true)\n",
    "    loss = (1/m) * np.sum((y_hat - y_true)**2)\n",
    "    return loss\n",
    "\n",
    "def backward_propagation(x, y_true, cache, w2, w3):\n",
    "    \"\"\"\n",
    "    Backward propagation to compute gradients\n",
    "    Using chain rule to compute ∂J/∂w and ∂J/∂b for each layer\n",
    "    \"\"\"\n",
    "    # Get cached values\n",
    "    z1, a1, z2, a2, z3, y_hat = cache['z1'], cache['a1'], cache['z2'], cache['a2'], cache['z3'], cache['y_hat']\n",
    "    \n",
    "    # Output layer gradients (Layer 3)\n",
    "    dJ_dyhat = 2 * (y_hat - y_true)  # Derivative of MSE\n",
    "    dyhat_dz3 = activation_fn_derivative(z3) \n",
    "    dJ_dz3 = dJ_dyhat * dyhat_dz3\n",
    "    \n",
    "    dJ_dw3 = dJ_dz3 * a2\n",
    "    dJ_db3 = dJ_dz3\n",
    "    \n",
    "    # Hidden layer 2 gradients  \n",
    "    dJ_da2 = dJ_dz3 * w3\n",
    "    da2_dz2 = activation_fn_derivative(z2)\n",
    "    dJ_dz2 = dJ_da2 * da2_dz2\n",
    "    \n",
    "    dJ_dw2 = dJ_dz2 * a1\n",
    "    dJ_db2 = dJ_dz2\n",
    "    \n",
    "    # Hidden layer 1 gradients\n",
    "    dJ_da1 = dJ_dz2 * w2\n",
    "    da1_dz1 = activation_fn_derivative(z1)\n",
    "    dJ_dz1 = dJ_da1 * da1_dz1\n",
    "    \n",
    "    dJ_dw1 = dJ_dz1 * x\n",
    "    dJ_db1 = dJ_dz1\n",
    "    \n",
    "    # Store gradients\n",
    "    gradients = {\n",
    "        'dJ_dw1': dJ_dw1, 'dJ_db1': dJ_db1,\n",
    "        'dJ_dw2': dJ_dw2, 'dJ_db2': dJ_db2,\n",
    "        'dJ_dw3': dJ_dw3, 'dJ_db3': dJ_db3\n",
    "    }\n",
    "    \n",
    "    return gradients\n",
    "\n",
    "print(\"Loss and backpropagation functions defined\")"
   ]
  },
  {
   "cell_type": "markdown",
   "id": "cee639bc",
   "metadata": {},
   "source": [
    "## 7. Training Loop"
   ]
  },
  {
   "cell_type": "code",
   "execution_count": 7,
   "id": "43378c82",
   "metadata": {},
   "outputs": [
    {
     "name": "stdout",
     "output_type": "stream",
     "text": [
      "Training 3-layer Neural Network...\n",
      "==================================================\n",
      "Epoch     0: Loss = 43.701780\n",
      "Epoch  2000: Loss = 32.505478\n",
      "Epoch  4000: Loss = 32.498963\n",
      "Epoch  6000: Loss = 32.496828\n",
      "Epoch  8000: Loss = 32.495767\n",
      "==================================================\n",
      "Training completed!\n",
      "Final parameters:\n",
      "w1 = 0.497, b1 = 0.339\n",
      "w2 = 2.279, b2 = 0.129\n",
      "w3 = 4.560, b3 = 0.085\n"
     ]
    }
   ],
   "source": [
    "# Training parameters\n",
    "learning_rate = 0.01\n",
    "epochs = 10000\n",
    "\n",
    "# Track losses\n",
    "train_losses = []\n",
    "\n",
    "print(\"Training 3-layer Neural Network...\")\n",
    "print(\"=\" * 50)\n",
    "\n",
    "for epoch in range(epochs):\n",
    "    # Forward propagation for all training samples\n",
    "    y_hat_train = []\n",
    "    caches = []\n",
    "    \n",
    "    for i in range(len(x_train)):\n",
    "        y_hat, cache = forward_propagation(x_train[i], w1, b1, w2, b2, w3, b3)\n",
    "        y_hat_train.append(y_hat)\n",
    "        caches.append(cache)\n",
    "    \n",
    "    y_hat_train = np.array(y_hat_train)\n",
    "    \n",
    "    # Compute loss\n",
    "    train_loss = compute_loss(y_hat_train, y_train)\n",
    "    train_losses.append(train_loss)\n",
    "    \n",
    "    # Backward propagation and parameter update\n",
    "    total_dw1 = total_db1 = total_dw2 = total_db2 = total_dw3 = total_db3 = 0\n",
    "    \n",
    "    for i in range(len(x_train)):\n",
    "        gradients = backward_propagation(x_train[i], y_train[i], caches[i], w2, w3)\n",
    "        total_dw1 += gradients['dJ_dw1']\n",
    "        total_db1 += gradients['dJ_db1']\n",
    "        total_dw2 += gradients['dJ_dw2']\n",
    "        total_db2 += gradients['dJ_db2']\n",
    "        total_dw3 += gradients['dJ_dw3']\n",
    "        total_db3 += gradients['dJ_db3']\n",
    "    \n",
    "    # Average gradients and update parameters\n",
    "    m = len(x_train)\n",
    "    w1 -= learning_rate * (total_dw1 / m)\n",
    "    b1 -= learning_rate * (total_db1 / m)\n",
    "    w2 -= learning_rate * (total_dw2 / m)\n",
    "    b2 -= learning_rate * (total_db2 / m)\n",
    "    w3 -= learning_rate * (total_dw3 / m)\n",
    "    b3 -= learning_rate * (total_db3 / m)\n",
    "    \n",
    "    # Print progress\n",
    "    if epoch % 2000 == 0:\n",
    "        print(f\"Epoch {epoch:5d}: Loss = {train_loss:.6f}\")\n",
    "\n",
    "print(\"=\" * 50)\n",
    "print(\"Training completed!\")\n",
    "print(f\"Final parameters:\")\n",
    "print(f\"w1 = {w1:.3f}, b1 = {b1:.3f}\")\n",
    "print(f\"w2 = {w2:.3f}, b2 = {b2:.3f}\")\n",
    "print(f\"w3 = {w3:.3f}, b3 = {b3:.3f}\")"
   ]
  },
  {
   "cell_type": "markdown",
   "id": "d3a80ef3",
   "metadata": {},
   "source": [
    "## 8. Prediction Function"
   ]
  },
  {
   "cell_type": "code",
   "execution_count": 8,
   "id": "1fc0e6bd",
   "metadata": {},
   "outputs": [
    {
     "name": "stdout",
     "output_type": "stream",
     "text": [
      "Final Results:\n",
      "========================================\n",
      "Training Error (MSE): 32.495132\n",
      "Test Error (MSE): 8.934979\n",
      "\n",
      "Sample Predictions:\n",
      "x_train | y_true | y_pred | error\n",
      "-----------------------------------\n",
      " -3.33 | -1.690 | -1.000 | 0.691\n",
      "  3.33 |  4.977 |  1.000 | 3.977\n",
      "-10.00 | -8.712 | -1.000 | 7.712\n",
      "  9.17 |  9.866 |  1.000 | 8.867\n",
      " -0.83 | -0.107 | -0.107 | 0.000\n",
      "\n",
      "Test set:\n",
      "x_test | y_true | y_pred | error\n",
      "-----------------------------------\n",
      " -4.17 | -2.521 | -1.000 | 1.521\n",
      " -1.67 | -0.830 | -0.997 | 0.167\n",
      "  1.67 |  2.504 |  1.000 | 1.504\n",
      "  5.83 |  6.610 |  1.000 | 5.610\n",
      " -5.00 | -3.932 | -1.000 | 2.932\n"
     ]
    }
   ],
   "source": [
    "# Make predictions on training and test sets\n",
    "def predict(x_data, w1, b1, w2, b2, w3, b3):\n",
    "    \"\"\"Make predictions using trained network\"\"\"\n",
    "    predictions = []\n",
    "    for x in x_data:\n",
    "        y_hat, _ = forward_propagation(x, w1, b1, w2, b2, w3, b3)\n",
    "        predictions.append(y_hat)\n",
    "    return np.array(predictions)\n",
    "\n",
    "# Get predictions\n",
    "y_train_pred = predict(x_train, w1, b1, w2, b2, w3, b3)\n",
    "y_test_pred = predict(x_test, w1, b1, w2, b2, w3, b3)\n",
    "\n",
    "# Compute final errors\n",
    "train_error = compute_loss(y_train_pred, y_train)\n",
    "test_error = compute_loss(y_test_pred, y_test)\n",
    "\n",
    "print(\"Final Results:\")\n",
    "print(\"=\" * 40)\n",
    "print(f\"Training Error (MSE): {train_error:.6f}\")\n",
    "print(f\"Test Error (MSE): {test_error:.6f}\")\n",
    "\n",
    "# Show some sample predictions\n",
    "print(\"\\nSample Predictions:\")\n",
    "print(\"x_train | y_true | y_pred | error\")\n",
    "print(\"-\" * 35)\n",
    "for i in range(min(5, len(x_train))):\n",
    "    error = abs(y_train[i] - y_train_pred[i])\n",
    "    print(f\"{x_train[i]:6.2f} | {y_train[i]:6.3f} | {y_train_pred[i]:6.3f} | {error:.3f}\")\n",
    "\n",
    "print(\"\\nTest set:\")\n",
    "print(\"x_test | y_true | y_pred | error\")\n",
    "print(\"-\" * 35)\n",
    "for i in range(len(x_test)):\n",
    "    error = abs(y_test[i] - y_test_pred[i])\n",
    "    print(f\"{x_test[i]:6.2f} | {y_test[i]:6.3f} | {y_test_pred[i]:6.3f} | {error:.3f}\")"
   ]
  },
  {
   "cell_type": "markdown",
   "id": "03f6155b",
   "metadata": {},
   "source": [
    "## 9. Test the Neural Network"
   ]
  },
  {
   "cell_type": "code",
   "execution_count": 9,
   "id": "4c4da41b",
   "metadata": {},
   "outputs": [
    {
     "data": {
      "image/png": "[encoded data removed]",
      "text/plain": [
       "<Figure size 1000x600 with 1 Axes>"
      ]
     },
     "metadata": {},
     "output_type": "display_data"
    },
    {
     "name": "stdout",
     "output_type": "stream",
     "text": [
      "\n",
      "============================================================\n",
      "ASSIGNMENT SUMMARY:\n",
      "============================================================\n",
      "• Function: f(x) = exp(-sin(x²)/2) + x\n",
      "• Neural Network: 3 layers, 1 neuron each\n",
      "• Training samples: 20\n",
      "• Test samples: 5\n",
      "• Training Error: 32.495132\n",
      "• Test Error: 8.934979\n",
      "============================================================\n"
     ]
    }
   ],
   "source": [
    "# Plot: True function vs predictions\n",
    "plt.figure(figsize=(10, 6))\n",
    "x_plot = np.linspace(-10, 10, 100)\n",
    "y_true_plot = target_function(x_plot)\n",
    "y_pred_plot = predict(x_plot, w1, b1, w2, b2, w3, b3)\n",
    "\n",
    "plt.plot(x_plot, y_true_plot, 'b-', label='True function f(x)', linewidth=2)\n",
    "plt.plot(x_plot, y_pred_plot, 'r--', label='NN prediction', linewidth=2)\n",
    "plt.scatter(x_train, y_train, c='blue', s=50, alpha=0.7, label='Training data')\n",
    "plt.scatter(x_test, y_test, c='red', s=50, alpha=0.7, label='Test data')\n",
    "plt.xlabel('x')\n",
    "plt.ylabel('y')\n",
    "plt.title('Function Approximation')\n",
    "plt.legend()\n",
    "plt.grid(True)\n",
    "plt.show()\n",
    "\n",
    "print(\"\\n\" + \"=\"*60)\n",
    "print(\"ASSIGNMENT SUMMARY:\")\n",
    "print(\"=\"*60)\n",
    "print(f\"• Function: f(x) = exp(-sin(x²)/2) + x\")\n",
    "print(f\"• Neural Network: 3 layers, 1 neuron each\")\n",
    "print(f\"• Training samples: {len(x_train)}\")\n",
    "print(f\"• Test samples: {len(x_test)}\")\n",
    "print(f\"• Training Error: {train_error:.6f}\")\n",
    "print(f\"• Test Error: {test_error:.6f}\")\n",
    "print(\"=\"*60)"
   ]
  }
 ],
 "metadata": {
  "kernelspec": {
   "display_name": "Python 3",
   "language": "python",
   "name": "python3"
  },
  "language_info": {
   "codemirror_mode": {
    "name": "ipython",
    "version": 3
   },
   "file_extension": ".py",
   "mimetype": "text/x-python",
   "name": "python",
   "nbconvert_exporter": "python",
   "pygments_lexer": "ipython3",
   "version": "3.12.3"
  }
 },
 "nbformat": 4,
 "nbformat_minor": 5
}
